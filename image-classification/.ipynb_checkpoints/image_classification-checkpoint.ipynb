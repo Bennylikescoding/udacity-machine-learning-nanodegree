{
 "cells": [
  {
   "cell_type": "markdown",
   "metadata": {
    "collapsed": true
   },
   "source": [
    "# Image Classification\n",
    "In this project, you'll classify images from the [CIFAR-10 dataset](https://www.cs.toronto.edu/~kriz/cifar.html).  The dataset consists of airplanes, dogs, cats, and other objects. You'll preprocess the images, then train a convolutional neural network on all the samples. The images need to be normalized and the labels need to be one-hot encoded.  You'll get to apply what you learned and build a convolutional, max pooling, dropout, and fully connected layers.  At the end, you'll get to see your neural network's predictions on the sample images.\n",
    "## Get the Data\n",
    "Run the following cell to download the [CIFAR-10 dataset for python](https://www.cs.toronto.edu/~kriz/cifar-10-python.tar.gz)."
   ]
  },
  {
   "cell_type": "code",
   "execution_count": 11,
   "metadata": {},
   "outputs": [
    {
     "name": "stdout",
     "output_type": "stream",
     "text": [
      "All files found!\n"
     ]
    }
   ],
   "source": [
    "\"\"\"\n",
    "DON'T MODIFY ANYTHING IN THIS CELL THAT IS BELOW THIS LINE\n",
    "\"\"\"\n",
    "from urllib.request import urlretrieve\n",
    "from os.path import isfile, isdir\n",
    "from tqdm import tqdm\n",
    "import problem_unittests as tests\n",
    "import tarfile\n",
    "\n",
    "cifar10_dataset_folder_path = 'cifar-10-batches-py'\n",
    "\n",
    "class DLProgress(tqdm):\n",
    "    last_block = 0\n",
    "\n",
    "    def hook(self, block_num=1, block_size=1, total_size=None):\n",
    "        self.total = total_size\n",
    "        self.update((block_num - self.last_block) * block_size)\n",
    "        self.last_block = block_num\n",
    "\n",
    "if not isfile('cifar-10-python.tar.gz'):\n",
    "    with DLProgress(unit='B', unit_scale=True, miniters=1, desc='CIFAR-10 Dataset') as pbar:\n",
    "        urlretrieve(\n",
    "            'https://www.cs.toronto.edu/~kriz/cifar-10-python.tar.gz',\n",
    "            'cifar-10-python.tar.gz',\n",
    "            pbar.hook)\n",
    "\n",
    "if not isdir(cifar10_dataset_folder_path):\n",
    "    with tarfile.open('cifar-10-python.tar.gz') as tar:\n",
    "        tar.extractall()\n",
    "        tar.close()\n",
    "\n",
    "\n",
    "tests.test_folder_path(cifar10_dataset_folder_path)"
   ]
  },
  {
   "cell_type": "markdown",
   "metadata": {},
   "source": [
    "## Explore the Data\n",
    "The dataset is broken into batches to prevent your machine from running out of memory.  The CIFAR-10 dataset consists of 5 batches, named `data_batch_1`, `data_batch_2`, etc.. Each batch contains the labels and images that are one of the following:\n",
    "* airplane\n",
    "* automobile\n",
    "* bird\n",
    "* cat\n",
    "* deer\n",
    "* dog\n",
    "* frog\n",
    "* horse\n",
    "* ship\n",
    "* truck\n",
    "\n",
    "Understanding a dataset is part of making predictions on the data.  Play around with the code cell below by changing the `batch_id` and `sample_id`. The `batch_id` is the id for a batch (1-5). The `sample_id` is the id for a image and label pair in the batch.\n",
    "\n",
    "Ask yourself \"What are all possible labels?\", \"What is the range of values for the image data?\", \"Are the labels in order or random?\".  Answers to questions like these will help you preprocess the data and end up with better predictions."
   ]
  },
  {
   "cell_type": "code",
   "execution_count": 12,
   "metadata": {},
   "outputs": [
    {
     "name": "stdout",
     "output_type": "stream",
     "text": [
      "\n",
      "Stats of batch 1:\n",
      "Samples: 10000\n",
      "Label Counts: {0: 1005, 1: 974, 2: 1032, 3: 1016, 4: 999, 5: 937, 6: 1030, 7: 1001, 8: 1025, 9: 981}\n",
      "First 20 Labels: [6, 9, 9, 4, 1, 1, 2, 7, 8, 3, 4, 7, 7, 2, 9, 9, 9, 3, 2, 6]\n",
      "\n",
      "Example of Image 5:\n",
      "Image - Min Value: 0 Max Value: 252\n",
      "Image - Shape: (32, 32, 3)\n",
      "Label - Label Id: 1 Name: automobile\n"
     ]
    },
    {
     "data": {
      "image/png": "[encoded data removed]",
      "text/plain": [
       "<matplotlib.figure.Figure at 0x7f5825f82358>"
      ]
     },
     "metadata": {
      "image/png": {
       "height": 250,
       "width": 253
      }
     },
     "output_type": "display_data"
    }
   ],
   "source": [
    "%matplotlib inline\n",
    "%config InlineBackend.figure_format = 'retina'\n",
    "\n",
    "import helper\n",
    "import numpy as np\n",
    "\n",
    "# Explore the dataset\n",
    "batch_id = 1\n",
    "sample_id = 5\n",
    "helper.display_stats(cifar10_dataset_folder_path, batch_id, sample_id)"
   ]
  },
  {
   "cell_type": "markdown",
   "metadata": {},
   "source": [
    "## Implement Preprocess Functions\n",
    "### Normalize\n",
    "In the cell below, implement the `normalize` function to take in image data, `x`, and return it as a normalized Numpy array. The values should be in the range of 0 to 1, inclusive.  The return object should be the same shape as `x`."
   ]
  },
  {
   "cell_type": "code",
   "execution_count": 13,
   "metadata": {},
   "outputs": [
    {
     "name": "stdout",
     "output_type": "stream",
     "text": [
      "Tests Passed\n"
     ]
    }
   ],
   "source": [
    "import numpy as np\n",
    "\n",
    "def normalize(x):\n",
    "    return np.array(x/255)\n",
    "\n",
    "\"\"\"\n",
    "DON'T MODIFY ANYTHING IN THIS CELL THAT IS BELOW THIS LINE\n",
    "\"\"\"\n",
    "tests.test_normalize(normalize)"
   ]
  },
  {
   "cell_type": "markdown",
   "metadata": {},
   "source": [
    "### One-hot encode\n",
    "Just like the previous code cell, you'll be implementing a function for preprocessing.  This time, you'll implement the `one_hot_encode` function. The input, `x`, are a list of labels.  Implement the function to return the list of labels as One-Hot encoded Numpy array.  The possible values for labels are 0 to 9. The one-hot encoding function should return the same encoding for each value between each call to `one_hot_encode`.  Make sure to save the map of encodings outside the function.\n",
    "\n",
    "**Hint:**\n",
    "\n",
    "Look into LabelBinarizer in the preprocessing module of sklearn."
   ]
  },
  {
   "cell_type": "code",
   "execution_count": 14,
   "metadata": {},
   "outputs": [
    {
     "name": "stdout",
     "output_type": "stream",
     "text": [
      "Tests Passed\n"
     ]
    }
   ],
   "source": [
    "def one_hot_encode(x):\n",
    "    return np.eye(10)[x]\n",
    "\n",
    "\"\"\"\n",
    "DON'T MODIFY ANYTHING IN THIS CELL THAT IS BELOW THIS LINE\n",
    "\"\"\"\n",
    "tests.test_one_hot_encode(one_hot_encode)"
   ]
  },
  {
   "cell_type": "markdown",
   "metadata": {},
   "source": [
    "### Randomize Data\n",
    "As you saw from exploring the data above, the order of the samples are randomized.  It doesn't hurt to randomize it again, but you don't need to for this dataset."
   ]
  },
  {
   "cell_type": "markdown",
   "metadata": {},
   "source": [
    "## Preprocess all the data and save it\n",
    "Running the code cell below will preprocess all the CIFAR-10 data and save it to file. The code below also uses 10% of the training data for validation."
   ]
  },
  {
   "cell_type": "code",
   "execution_count": 15,
   "metadata": {},
   "outputs": [],
   "source": [
    "\"\"\"\n",
    "DON'T MODIFY ANYTHING IN THIS CELL\n",
    "\"\"\"\n",
    "# Preprocess Training, Validation, and Testing Data\n",
    "helper.preprocess_and_save_data(cifar10_dataset_folder_path, normalize, one_hot_encode)"
   ]
  },
  {
   "cell_type": "markdown",
   "metadata": {},
   "source": [
    "# Check Point\n",
    "This is your first checkpoint.  If you ever decide to come back to this notebook or have to restart the notebook, you can start from here.  The preprocessed data has been saved to disk."
   ]
  },
  {
   "cell_type": "code",
   "execution_count": 16,
   "metadata": {
    "collapsed": true
   },
   "outputs": [],
   "source": [
    "\"\"\"\n",
    "DON'T MODIFY ANYTHING IN THIS CELL\n",
    "\"\"\"\n",
    "import pickle\n",
    "import problem_unittests as tests\n",
    "import helper\n",
    "\n",
    "# Load the Preprocessed Validation data\n",
    "valid_features, valid_labels = pickle.load(open('preprocess_validation.p', mode='rb'))"
   ]
  },
  {
   "cell_type": "markdown",
   "metadata": {},
   "source": [
    "## Build the network\n",
    "For the neural network, you'll build each layer into a function.  Most of the code you've seen has been outside of functions. To test your code more thoroughly, we require that you put each layer in a function.  This allows us to give you better feedback and test for simple mistakes using our unittests before you submit your project.\n",
    "\n",
    ">**Note:** If you're finding it hard to dedicate enough time for this course each week, we've provided a small shortcut to this part of the project. In the next couple of problems, you'll have the option to use classes from the [TensorFlow Layers](https://www.tensorflow.org/api_docs/python/tf/layers) or [TensorFlow Layers (contrib)](https://www.tensorflow.org/api_guides/python/contrib.layers) packages to build each layer, except the layers you build in the \"Convolutional and Max Pooling Layer\" section.  TF Layers is similar to Keras's and TFLearn's abstraction to layers, so it's easy to pickup.\n",
    "\n",
    ">However, if you would like to get the most out of this course, try to solve all the problems _without_ using anything from the TF Layers packages. You **can** still use classes from other packages that happen to have the same name as ones you find in TF Layers! For example, instead of using the TF Layers version of the `conv2d` class, [tf.layers.conv2d](https://www.tensorflow.org/api_docs/python/tf/layers/conv2d), you would want to use the TF Neural Network version of `conv2d`, [tf.nn.conv2d](https://www.tensorflow.org/api_docs/python/tf/nn/conv2d). \n",
    "\n",
    "Let's begin!\n",
    "\n",
    "### Input\n",
    "The neural network needs to read the image data, one-hot encoded labels, and dropout keep probability. Implement the following functions\n",
    "* Implement `neural_net_image_input`\n",
    " * Return a [TF Placeholder](https://www.tensorflow.org/api_docs/python/tf/placeholder)\n",
    " * Set the shape using `image_shape` with batch size set to `None`.\n",
    " * Name the TensorFlow placeholder \"x\" using the TensorFlow `name` parameter in the [TF Placeholder](https://www.tensorflow.org/api_docs/python/tf/placeholder).\n",
    "* Implement `neural_net_label_input`\n",
    " * Return a [TF Placeholder](https://www.tensorflow.org/api_docs/python/tf/placeholder)\n",
    " * Set the shape using `n_classes` with batch size set to `None`.\n",
    " * Name the TensorFlow placeholder \"y\" using the TensorFlow `name` parameter in the [TF Placeholder](https://www.tensorflow.org/api_docs/python/tf/placeholder).\n",
    "* Implement `neural_net_keep_prob_input`\n",
    " * Return a [TF Placeholder](https://www.tensorflow.org/api_docs/python/tf/placeholder) for dropout keep probability.\n",
    " * Name the TensorFlow placeholder \"keep_prob\" using the TensorFlow `name` parameter in the [TF Placeholder](https://www.tensorflow.org/api_docs/python/tf/placeholder).\n",
    "\n",
    "These names will be used at the end of the project to load your saved model.\n",
    "\n",
    "Note: `None` for shapes in TensorFlow allow for a dynamic size."
   ]
  },
  {
   "cell_type": "code",
   "execution_count": 17,
   "metadata": {},
   "outputs": [
    {
     "name": "stdout",
     "output_type": "stream",
     "text": [
      "Image Input Tests Passed.\n",
      "Label Input Tests Passed.\n",
      "Keep Prob Tests Passed.\n"
     ]
    }
   ],
   "source": [
    "import tensorflow as tf\n",
    "\n",
    "def neural_net_image_input(image_shape):\n",
    "    \"\"\"\n",
    "    Return a Tensor for a batch of image input\n",
    "    : image_shape: Shape of the images\n",
    "    : return: Tensor for image input.\n",
    "    \"\"\"\n",
    "    return tf.placeholder(tf.float32, name='x', shape=[None, *image_shape])\n",
    "\n",
    "\n",
    "def neural_net_label_input(n_classes):\n",
    "    \"\"\"\n",
    "    Return a Tensor for a batch of label input\n",
    "    : n_classes: Number of classes\n",
    "    : return: Tensor for label input.\n",
    "    \"\"\"\n",
    "    return tf.placeholder(tf.float32, name='y', shape=[None, n_classes])\n",
    "\n",
    "\n",
    "def neural_net_keep_prob_input():\n",
    "    \"\"\"\n",
    "    Return a Tensor for keep probability\n",
    "    : return: Tensor for keep probability.\n",
    "    \"\"\"\n",
    "    return tf.placeholder(tf.float32, name='keep_prob')\n",
    "\n",
    "\n",
    "\"\"\"\n",
    "DON'T MODIFY ANYTHING IN THIS CELL THAT IS BELOW THIS LINE\n",
    "\"\"\"\n",
    "tf.reset_default_graph()\n",
    "tests.test_nn_image_inputs(neural_net_image_input)\n",
    "tests.test_nn_label_inputs(neural_net_label_input)\n",
    "tests.test_nn_keep_prob_inputs(neural_net_keep_prob_input)"
   ]
  },
  {
   "cell_type": "markdown",
   "metadata": {},
   "source": [
    "### Convolution and Max Pooling Layer\n",
    "Convolution layers have a lot of success with images. For this code cell, you should implement the function `conv2d_maxpool` to apply convolution then max pooling:\n",
    "* Create the weight and bias using `conv_ksize`, `conv_num_outputs` and the shape of `x_tensor`.\n",
    "* Apply a convolution to `x_tensor` using weight and `conv_strides`.\n",
    " * We recommend you use same padding, but you're welcome to use any padding.\n",
    "* Add bias\n",
    "* Add a nonlinear activation to the convolution.\n",
    "* Apply Max Pooling using `pool_ksize` and `pool_strides`.\n",
    " * We recommend you use same padding, but you're welcome to use any padding.\n",
    "\n",
    "**Note:** You **can't** use [TensorFlow Layers](https://www.tensorflow.org/api_docs/python/tf/layers) or [TensorFlow Layers (contrib)](https://www.tensorflow.org/api_guides/python/contrib.layers) for **this** layer, but you can still use TensorFlow's [Neural Network](https://www.tensorflow.org/api_docs/python/tf/nn) package. You may still use the shortcut option for all the **other** layers.\n",
    "\n",
    "** Hint: **\n",
    "\n",
    "When unpacking values as an argument in Python, look into the [unpacking](https://docs.python.org/3/tutorial/controlflow.html#unpacking-argument-lists) operator. "
   ]
  },
  {
   "cell_type": "code",
   "execution_count": 18,
   "metadata": {},
   "outputs": [
    {
     "name": "stdout",
     "output_type": "stream",
     "text": [
      "Tests Passed\n"
     ]
    }
   ],
   "source": [
    "def conv2d_maxpool(x_tensor, conv_num_outputs, conv_ksize, conv_strides, pool_ksize, pool_strides):\n",
    "    \"\"\"\n",
    "    Apply convolution then max pooling to x_tensor\n",
    "    :param x_tensor: TensorFlow Tensor\n",
    "    :param conv_num_outputs: Number of outputs for the convolutional layer\n",
    "    :param conv_ksize: kernal size 2-D Tuple for the convolutional layer\n",
    "    :param conv_strides: Stride 2-D Tuple for convolution\n",
    "    :param pool_ksize: kernal size 2-D Tuple for pool\n",
    "    :param pool_strides: Stride 2-D Tuple for pool\n",
    "    : return: A tensor that represents convolution and max pooling of x_tensor\n",
    "    \"\"\"\n",
    "    #x_tensor = tf.contrib.layers.conv2d(\n",
    "    #    x_tensor, \n",
    "    #    kernel_size=[*pool_ksize], \n",
    "    #    num_outputs=conv_num_outputs\n",
    "    #)\n",
    "    x_tensor = tf.nn.conv2d(\n",
    "        x_tensor, \n",
    "        tf.Variable(\n",
    "            tf.truncated_normal(\n",
    "                [\n",
    "                    *conv_ksize, \n",
    "                    x_tensor.get_shape().as_list()[3], \n",
    "                    conv_num_outputs\n",
    "                ]\n",
    "            )\n",
    "        ), \n",
    "        strides = [\n",
    "            1, \n",
    "            *conv_strides,\n",
    "            1\n",
    "        ],\n",
    "        padding ='SAME'\n",
    "    )\n",
    "    \n",
    "    x_tensor = tf.contrib.layers.bias_add(x_tensor)\n",
    "    \n",
    "    x_tensor = tf.nn.max_pool(\n",
    "        x_tensor,\n",
    "        ksize=[1, *pool_ksize, 1],\n",
    "        strides=[1, *pool_strides, 1],\n",
    "        padding=\"SAME\"\n",
    "    )\n",
    "    \n",
    "    return x_tensor\n",
    "    \n",
    "\n",
    "\"\"\"\n",
    "DON'T MODIFY ANYTHING IN THIS CELL THAT IS BELOW THIS LINE\n",
    "\"\"\"\n",
    "tests.test_con_pool(conv2d_maxpool)"
   ]
  },
  {
   "cell_type": "markdown",
   "metadata": {},
   "source": [
    "### Flatten Layer\n",
    "Implement the `flatten` function to change the dimension of `x_tensor` from a 4-D tensor to a 2-D tensor.  The output should be the shape (*Batch Size*, *Flattened Image Size*). Shortcut option: you can use classes from the [TensorFlow Layers](https://www.tensorflow.org/api_docs/python/tf/layers) or [TensorFlow Layers (contrib)](https://www.tensorflow.org/api_guides/python/contrib.layers) packages for this layer. For more of a challenge, only use other TensorFlow packages."
   ]
  },
  {
   "cell_type": "code",
   "execution_count": 19,
   "metadata": {},
   "outputs": [
    {
     "name": "stdout",
     "output_type": "stream",
     "text": [
      "Tests Passed\n"
     ]
    }
   ],
   "source": [
    "def flatten(x_tensor):\n",
    "    \"\"\"\n",
    "    Flatten x_tensor to (Batch Size, Flattened Image Size)\n",
    "    : x_tensor: A tensor of size (Batch Size, ...), where ... are the image dimensions.\n",
    "    : return: A tensor of size (Batch Size, Flattened Image Size).\n",
    "    \"\"\"\n",
    "    return tf.contrib.layers.flatten(x_tensor)\n",
    "\n",
    "\"\"\"\n",
    "DON'T MODIFY ANYTHING IN THIS CELL THAT IS BELOW THIS LINE\n",
    "\"\"\"\n",
    "tests.test_flatten(flatten)"
   ]
  },
  {
   "cell_type": "markdown",
   "metadata": {},
   "source": [
    "### Fully-Connected Layer\n",
    "Implement the `fully_conn` function to apply a fully connected layer to `x_tensor` with the shape (*Batch Size*, *num_outputs*). Shortcut option: you can use classes from the [TensorFlow Layers](https://www.tensorflow.org/api_docs/python/tf/layers) or [TensorFlow Layers (contrib)](https://www.tensorflow.org/api_guides/python/contrib.layers) packages for this layer. For more of a challenge, only use other TensorFlow packages."
   ]
  },
  {
   "cell_type": "code",
   "execution_count": 20,
   "metadata": {},
   "outputs": [
    {
     "name": "stdout",
     "output_type": "stream",
     "text": [
      "Tests Passed\n"
     ]
    }
   ],
   "source": [
    "def fully_conn(x_tensor, num_outputs):\n",
    "    \"\"\"\n",
    "    Apply a fully connected layer to x_tensor using weight and bias\n",
    "    : x_tensor: A 2-D tensor where the first dimension is batch size.\n",
    "    : num_outputs: The number of output that the new tensor should be.\n",
    "    : return: A 2-D tensor where the second dimension is num_outputs.\n",
    "    \"\"\"\n",
    "    return tf.contrib.layers.fully_connected(x_tensor, num_outputs)\n",
    "\"\"\"\n",
    "DON'T MODIFY ANYTHING IN THIS CELL THAT IS BELOW THIS LINE\n",
    "\"\"\"\n",
    "tests.test_fully_conn(fully_conn)"
   ]
  },
  {
   "cell_type": "markdown",
   "metadata": {},
   "source": [
    "### Output Layer\n",
    "Implement the `output` function to apply a fully connected layer to `x_tensor` with the shape (*Batch Size*, *num_outputs*). Shortcut option: you can use classes from the [TensorFlow Layers](https://www.tensorflow.org/api_docs/python/tf/layers) or [TensorFlow Layers (contrib)](https://www.tensorflow.org/api_guides/python/contrib.layers) packages for this layer. For more of a challenge, only use other TensorFlow packages.\n",
    "\n",
    "**Note:** Activation, softmax, or cross entropy should **not** be applied to this."
   ]
  },
  {
   "cell_type": "code",
   "execution_count": 21,
   "metadata": {},
   "outputs": [
    {
     "name": "stdout",
     "output_type": "stream",
     "text": [
      "Tests Passed\n"
     ]
    }
   ],
   "source": [
    "def output(x_tensor, num_outputs):\n",
    "    \"\"\"\n",
    "    Apply a output layer to x_tensor using weight and bias\n",
    "    : x_tensor: A 2-D tensor where the first dimension is batch size.\n",
    "    : num_outputs: The number of output that the new tensor should be.\n",
    "    : return: A 2-D tensor where the second dimension is num_outputs.\n",
    "    \"\"\"\n",
    "    return tf.layers.dense(inputs=x_tensor, units=num_outputs)\n",
    "\n",
    "\"\"\"\n",
    "DON'T MODIFY ANYTHING IN THIS CELL THAT IS BELOW THIS LINE\n",
    "\"\"\"\n",
    "tests.test_output(output)"
   ]
  },
  {
   "cell_type": "markdown",
   "metadata": {},
   "source": [
    "### Create Convolutional Model\n",
    "Implement the function `conv_net` to create a convolutional neural network model. The function takes in a batch of images, `x`, and outputs logits.  Use the layers you created above to create this model:\n",
    "\n",
    "* Apply 1, 2, or 3 Convolution and Max Pool layers\n",
    "* Apply a Flatten Layer\n",
    "* Apply 1, 2, or 3 Fully Connected Layers\n",
    "* Apply an Output Layer\n",
    "* Return the output\n",
    "* Apply [TensorFlow's Dropout](https://www.tensorflow.org/api_docs/python/tf/nn/dropout) to one or more layers in the model using `keep_prob`. "
   ]
  },
  {
   "cell_type": "code",
   "execution_count": 22,
   "metadata": {},
   "outputs": [
    {
     "name": "stdout",
     "output_type": "stream",
     "text": [
      "Neural Network Built!\n"
     ]
    }
   ],
   "source": [
    "def conv_net(x, keep_prob):\n",
    "    \"\"\"\n",
    "    Create a convolutional neural network model\n",
    "    : x: Placeholder tensor that holds image data.\n",
    "    : keep_prob: Placeholder tensor that hold dropout keep probability.\n",
    "    : return: Tensor that represents logits\n",
    "    \"\"\"\n",
    "    x = conv2d_maxpool(x, 1024, (3, 3), (3, 3), (3, 3), (3, 3))\n",
    "    x = flatten(x)\n",
    "    x = fully_conn(x, 1024)\n",
    "    x = tf.nn.dropout(x, keep_prob)\n",
    " \n",
    "    return output(x,10)\n",
    "\n",
    "\n",
    "\"\"\"\n",
    "DON'T MODIFY ANYTHING IN THIS CELL THAT IS BELOW THIS LINE\n",
    "\"\"\"\n",
    "\n",
    "##############################\n",
    "## Build the Neural Network ##\n",
    "##############################\n",
    "\n",
    "# Remove previous weights, bias, inputs, etc..\n",
    "tf.reset_default_graph()\n",
    "\n",
    "# Inputs\n",
    "x = neural_net_image_input((32, 32, 3))\n",
    "y = neural_net_label_input(10)\n",
    "keep_prob = neural_net_keep_prob_input()\n",
    "\n",
    "# Model\n",
    "logits = conv_net(x, keep_prob)\n",
    "\n",
    "# Name logits Tensor, so that is can be loaded from disk after training\n",
    "logits = tf.identity(logits, name='logits')\n",
    "\n",
    "# Loss and Optimizer\n",
    "cost = tf.reduce_mean(tf.nn.softmax_cross_entropy_with_logits(logits=logits, labels=y))\n",
    "optimizer = tf.train.AdamOptimizer().minimize(cost)\n",
    "\n",
    "# Accuracy\n",
    "correct_pred = tf.equal(tf.argmax(logits, 1), tf.argmax(y, 1))\n",
    "accuracy = tf.reduce_mean(tf.cast(correct_pred, tf.float32), name='accuracy')\n",
    "\n",
    "tests.test_conv_net(conv_net)"
   ]
  },
  {
   "cell_type": "markdown",
   "metadata": {},
   "source": [
    "## Train the Neural Network\n",
    "### Single Optimization\n",
    "Implement the function `train_neural_network` to do a single optimization.  The optimization should use `optimizer` to optimize in `session` with a `feed_dict` of the following:\n",
    "* `x` for image input\n",
    "* `y` for labels\n",
    "* `keep_prob` for keep probability for dropout\n",
    "\n",
    "This function will be called for each batch, so `tf.global_variables_initializer()` has already been called.\n",
    "\n",
    "Note: Nothing needs to be returned. This function is only optimizing the neural network."
   ]
  },
  {
   "cell_type": "code",
   "execution_count": 23,
   "metadata": {},
   "outputs": [
    {
     "name": "stdout",
     "output_type": "stream",
     "text": [
      "Tests Passed\n"
     ]
    }
   ],
   "source": [
    "def train_neural_network(session, optimizer, keep_probability, feature_batch, label_batch):\n",
    "    \"\"\"\n",
    "    Optimize the session on a batch of images and labels\n",
    "    : session: Current TensorFlow session\n",
    "    : optimizer: TensorFlow optimizer function\n",
    "    : keep_probability: keep probability\n",
    "    : feature_batch: Batch of Numpy image data\n",
    "    : label_batch: Batch of Numpy label data\n",
    "    \"\"\"\n",
    "    session.run(optimizer, feed_dict={x: feature_batch, y: label_batch, keep_prob: keep_probability})\n",
    "    pass\n",
    "\n",
    "\n",
    "\"\"\"\n",
    "DON'T MODIFY ANYTHING IN THIS CELL THAT IS BELOW THIS LINE\n",
    "\"\"\"\n",
    "tests.test_train_nn(train_neural_network)"
   ]
  },
  {
   "cell_type": "markdown",
   "metadata": {},
   "source": [
    "### Show Stats\n",
    "Implement the function `print_stats` to print loss and validation accuracy.  Use the global variables `valid_features` and `valid_labels` to calculate validation accuracy.  Use a keep probability of `1.0` to calculate the loss and validation accuracy."
   ]
  },
  {
   "cell_type": "code",
   "execution_count": 24,
   "metadata": {},
   "outputs": [],
   "source": [
    "def print_stats(session, feature_batch, label_batch, cost, accuracy):\n",
    "    \"\"\"\n",
    "    Print information about loss and validation accuracy\n",
    "    : session: Current TensorFlow session\n",
    "    : feature_batch: Batch of Numpy image data\n",
    "    : label_batch: Batch of Numpy label data\n",
    "    : cost: TensorFlow cost function\n",
    "    : accuracy: TensorFlow accuracy function\n",
    "    \"\"\"\n",
    "    loss = session.run(cost, feed_dict={ x: feature_batch, y: label_batch, keep_prob: 1.0})\n",
    "    acc = session.run(accuracy, feed_dict={ x: valid_features, y: valid_labels, keep_prob: 1.0})\n",
    "\n",
    "    print('{0}, {1}'.format(loss, acc))"
   ]
  },
  {
   "cell_type": "markdown",
   "metadata": {},
   "source": [
    "### Hyperparameters\n",
    "Tune the following parameters:\n",
    "* Set `epochs` to the number of iterations until the network stops learning or start overfitting\n",
    "* Set `batch_size` to the highest number that your machine has memory for.  Most people set them to common sizes of memory:\n",
    " * 64\n",
    " * 128\n",
    " * 256\n",
    " * ...\n",
    "* Set `keep_probability` to the probability of keeping a node using dropout"
   ]
  },
  {
   "cell_type": "code",
   "execution_count": 25,
   "metadata": {
    "collapsed": true
   },
   "outputs": [],
   "source": [
    "epochs = 50\n",
    "batch_size = 3072\n",
    "keep_probability = .7"
   ]
  },
  {
   "cell_type": "markdown",
   "metadata": {},
   "source": [
    "### Train on a Single CIFAR-10 Batch\n",
    "Instead of training the neural network on all the CIFAR-10 batches of data, let's use a single batch. This should save time while you iterate on the model to get a better accuracy.  Once the final validation accuracy is 50% or greater, run the model on all the data in the next section."
   ]
  },
  {
   "cell_type": "code",
   "execution_count": 26,
   "metadata": {},
   "outputs": [
    {
     "name": "stdout",
     "output_type": "stream",
     "text": [
      "Checking the Training on a Single Batch...\n",
      "Epoch  1, CIFAR-10 Batch 1:  183.35118103027344, 0.11720000207424164\n",
      "Epoch  2, CIFAR-10 Batch 1:  101.23463439941406, 0.1589999943971634\n",
      "Epoch  3, CIFAR-10 Batch 1:  60.893123626708984, 0.17659999430179596\n",
      "Epoch  4, CIFAR-10 Batch 1:  24.670597076416016, 0.12540000677108765\n",
      "Epoch  5, CIFAR-10 Batch 1:  12.955673217773438, 0.23000000417232513\n",
      "Epoch  6, CIFAR-10 Batch 1:  6.155423164367676, 0.2337999939918518\n",
      "Epoch  7, CIFAR-10 Batch 1:  3.305004119873047, 0.21279999613761902\n",
      "Epoch  8, CIFAR-10 Batch 1:  2.1217031478881836, 0.20559999346733093\n",
      "Epoch  9, CIFAR-10 Batch 1:  2.1930763721466064, 0.17419999837875366\n",
      "Epoch 10, CIFAR-10 Batch 1:  2.147751808166504, 0.19439999759197235\n",
      "Epoch 11, CIFAR-10 Batch 1:  2.116229772567749, 0.19040000438690186\n",
      "Epoch 12, CIFAR-10 Batch 1:  2.1009488105773926, 0.20659999549388885\n",
      "Epoch 13, CIFAR-10 Batch 1:  2.1088449954986572, 0.24819999933242798\n",
      "Epoch 14, CIFAR-10 Batch 1:  2.084859609603882, 0.26600000262260437\n",
      "Epoch 15, CIFAR-10 Batch 1:  2.0562026500701904, 0.2531999945640564\n",
      "Epoch 16, CIFAR-10 Batch 1:  2.0373668670654297, 0.27399998903274536\n",
      "Epoch 17, CIFAR-10 Batch 1:  2.0280208587646484, 0.2800000011920929\n",
      "Epoch 18, CIFAR-10 Batch 1:  2.0246164798736572, 0.2881999909877777\n",
      "Epoch 19, CIFAR-10 Batch 1:  2.0126285552978516, 0.2897999882698059\n",
      "Epoch 20, CIFAR-10 Batch 1:  1.9959479570388794, 0.28380000591278076\n",
      "Epoch 21, CIFAR-10 Batch 1:  1.9828968048095703, 0.2971999943256378\n",
      "Epoch 22, CIFAR-10 Batch 1:  1.9773610830307007, 0.31360000371932983\n",
      "Epoch 23, CIFAR-10 Batch 1:  1.959828495979309, 0.31439998745918274\n",
      "Epoch 24, CIFAR-10 Batch 1:  1.9554378986358643, 0.31380000710487366\n",
      "Epoch 25, CIFAR-10 Batch 1:  1.9451466798782349, 0.3206000030040741\n",
      "Epoch 26, CIFAR-10 Batch 1:  1.9248652458190918, 0.32820001244544983\n",
      "Epoch 27, CIFAR-10 Batch 1:  1.8961213827133179, 0.33340001106262207\n",
      "Epoch 28, CIFAR-10 Batch 1:  1.8863707780838013, 0.3296000063419342\n",
      "Epoch 29, CIFAR-10 Batch 1:  1.8895857334136963, 0.33880001306533813\n",
      "Epoch 30, CIFAR-10 Batch 1:  1.8812447786331177, 0.3330000042915344\n",
      "Epoch 31, CIFAR-10 Batch 1:  1.8672938346862793, 0.33980000019073486\n",
      "Epoch 32, CIFAR-10 Batch 1:  1.8633325099945068, 0.34439998865127563\n",
      "Epoch 33, CIFAR-10 Batch 1:  1.8551521301269531, 0.3467999994754791\n",
      "Epoch 34, CIFAR-10 Batch 1:  1.8430192470550537, 0.34700000286102295\n",
      "Epoch 35, CIFAR-10 Batch 1:  1.8282668590545654, 0.3508000075817108\n",
      "Epoch 36, CIFAR-10 Batch 1:  1.8119723796844482, 0.3492000102996826\n",
      "Epoch 37, CIFAR-10 Batch 1:  1.799019455909729, 0.35600000619888306\n",
      "Epoch 38, CIFAR-10 Batch 1:  1.7973836660385132, 0.3610000014305115\n",
      "Epoch 39, CIFAR-10 Batch 1:  1.7707608938217163, 0.3630000054836273\n",
      "Epoch 40, CIFAR-10 Batch 1:  1.7689201831817627, 0.36820000410079956\n",
      "Epoch 41, CIFAR-10 Batch 1:  1.759468674659729, 0.3668000102043152\n",
      "Epoch 42, CIFAR-10 Batch 1:  1.7427034378051758, 0.38119998574256897\n",
      "Epoch 43, CIFAR-10 Batch 1:  1.7367174625396729, 0.3774000108242035\n",
      "Epoch 44, CIFAR-10 Batch 1:  1.7166060209274292, 0.3815999925136566\n",
      "Epoch 45, CIFAR-10 Batch 1:  1.7150591611862183, 0.38100001215934753\n",
      "Epoch 46, CIFAR-10 Batch 1:  1.696242094039917, 0.38440001010894775\n",
      "Epoch 47, CIFAR-10 Batch 1:  1.6961338520050049, 0.3856000006198883\n",
      "Epoch 48, CIFAR-10 Batch 1:  1.679794192314148, 0.38839998841285706\n",
      "Epoch 49, CIFAR-10 Batch 1:  1.6674506664276123, 0.391400009393692\n",
      "Epoch 50, CIFAR-10 Batch 1:  1.6609023809432983, 0.3937999904155731\n"
     ]
    }
   ],
   "source": [
    "\"\"\"\n",
    "DON'T MODIFY ANYTHING IN THIS CELL\n",
    "\"\"\"\n",
    "print('Checking the Training on a Single Batch...')\n",
    "with tf.Session() as sess:\n",
    "    # Initializing the variables\n",
    "    sess.run(tf.global_variables_initializer())\n",
    "    \n",
    "    # Training cycle\n",
    "    for epoch in range(epochs):\n",
    "        batch_i = 1\n",
    "        for batch_features, batch_labels in helper.load_preprocess_training_batch(batch_i, batch_size):\n",
    "            train_neural_network(sess, optimizer, keep_probability, batch_features, batch_labels)\n",
    "        print('Epoch {:>2}, CIFAR-10 Batch {}:  '.format(epoch + 1, batch_i), end='')\n",
    "        print_stats(sess, batch_features, batch_labels, cost, accuracy)"
   ]
  },
  {
   "cell_type": "markdown",
   "metadata": {},
   "source": [
    "### Fully Train the Model\n",
    "Now that you got a good accuracy with a single CIFAR-10 batch, try it with all five batches."
   ]
  },
  {
   "cell_type": "code",
   "execution_count": 27,
   "metadata": {},
   "outputs": [
    {
     "name": "stdout",
     "output_type": "stream",
     "text": [
      "Training...\n",
      "Epoch  1, CIFAR-10 Batch 1:  160.3115997314453, 0.1257999986410141\n",
      "Epoch  1, CIFAR-10 Batch 2:  76.49173736572266, 0.16899999976158142\n",
      "Epoch  1, CIFAR-10 Batch 3:  33.881103515625, 0.1273999959230423\n",
      "Epoch  1, CIFAR-10 Batch 4:  28.5638370513916, 0.12720000743865967\n",
      "Epoch  1, CIFAR-10 Batch 5:  17.17823600769043, 0.18719999492168427\n",
      "Epoch  2, CIFAR-10 Batch 1:  9.210750579833984, 0.21699999272823334\n",
      "Epoch  2, CIFAR-10 Batch 2:  6.337998867034912, 0.2443999946117401\n",
      "Epoch  2, CIFAR-10 Batch 3:  4.488779544830322, 0.25220000743865967\n",
      "Epoch  2, CIFAR-10 Batch 4:  2.1462419033050537, 0.21320000290870667\n",
      "Epoch  2, CIFAR-10 Batch 5:  2.163830041885376, 0.2046000063419342\n",
      "Epoch  3, CIFAR-10 Batch 1:  2.1633360385894775, 0.20679999887943268\n",
      "Epoch  3, CIFAR-10 Batch 2:  2.1584510803222656, 0.19099999964237213\n",
      "Epoch  3, CIFAR-10 Batch 3:  2.149181842803955, 0.19120000302791595\n",
      "Epoch  3, CIFAR-10 Batch 4:  2.13673734664917, 0.1964000016450882\n",
      "Epoch  3, CIFAR-10 Batch 5:  2.1217174530029297, 0.21699999272823334\n",
      "Epoch  4, CIFAR-10 Batch 1:  2.0951461791992188, 0.22619999945163727\n",
      "Epoch  4, CIFAR-10 Batch 2:  2.067244052886963, 0.24779999256134033\n",
      "Epoch  4, CIFAR-10 Batch 3:  2.0721166133880615, 0.2386000007390976\n",
      "Epoch  4, CIFAR-10 Batch 4:  2.062812089920044, 0.2409999966621399\n",
      "Epoch  4, CIFAR-10 Batch 5:  2.053173780441284, 0.24140000343322754\n",
      "Epoch  5, CIFAR-10 Batch 1:  2.0283203125, 0.24660000205039978\n",
      "Epoch  5, CIFAR-10 Batch 2:  2.0066356658935547, 0.2540000081062317\n",
      "Epoch  5, CIFAR-10 Batch 3:  1.997817039489746, 0.2667999863624573\n",
      "Epoch  5, CIFAR-10 Batch 4:  1.9801580905914307, 0.27799999713897705\n",
      "Epoch  5, CIFAR-10 Batch 5:  1.9690194129943848, 0.2858000099658966\n",
      "Epoch  6, CIFAR-10 Batch 1:  1.9449032545089722, 0.3012000024318695\n",
      "Epoch  6, CIFAR-10 Batch 2:  1.915755271911621, 0.31439998745918274\n",
      "Epoch  6, CIFAR-10 Batch 3:  1.900685429573059, 0.3215999901294708\n",
      "Epoch  6, CIFAR-10 Batch 4:  1.9026256799697876, 0.34200000762939453\n",
      "Epoch  6, CIFAR-10 Batch 5:  1.884574294090271, 0.35120001435279846\n",
      "Epoch  7, CIFAR-10 Batch 1:  1.875815510749817, 0.3553999960422516\n",
      "Epoch  7, CIFAR-10 Batch 2:  1.856579303741455, 0.34439998865127563\n",
      "Epoch  7, CIFAR-10 Batch 3:  1.8459004163742065, 0.3492000102996826\n",
      "Epoch  7, CIFAR-10 Batch 4:  1.8300220966339111, 0.3662000000476837\n",
      "Epoch  7, CIFAR-10 Batch 5:  1.8172277212142944, 0.3790000081062317\n",
      "Epoch  8, CIFAR-10 Batch 1:  1.823950171470642, 0.37400001287460327\n",
      "Epoch  8, CIFAR-10 Batch 2:  1.7867951393127441, 0.38199999928474426\n",
      "Epoch  8, CIFAR-10 Batch 3:  1.7582563161849976, 0.38999998569488525\n",
      "Epoch  8, CIFAR-10 Batch 4:  1.743381142616272, 0.38659998774528503\n",
      "Epoch  8, CIFAR-10 Batch 5:  1.727525234222412, 0.39820000529289246\n",
      "Epoch  9, CIFAR-10 Batch 1:  1.7030024528503418, 0.4075999855995178\n",
      "Epoch  9, CIFAR-10 Batch 2:  1.6970254182815552, 0.4047999978065491\n",
      "Epoch  9, CIFAR-10 Batch 3:  1.6877306699752808, 0.4163999855518341\n",
      "Epoch  9, CIFAR-10 Batch 4:  1.693373203277588, 0.42179998755455017\n",
      "Epoch  9, CIFAR-10 Batch 5:  1.6782557964324951, 0.42320001125335693\n",
      "Epoch 10, CIFAR-10 Batch 1:  1.6676304340362549, 0.414000004529953\n",
      "Epoch 10, CIFAR-10 Batch 2:  1.6442962884902954, 0.4368000030517578\n",
      "Epoch 10, CIFAR-10 Batch 3:  1.650231122970581, 0.4325999915599823\n",
      "Epoch 10, CIFAR-10 Batch 4:  1.6342312097549438, 0.436599999666214\n",
      "Epoch 10, CIFAR-10 Batch 5:  1.6514885425567627, 0.4415999948978424\n",
      "Epoch 11, CIFAR-10 Batch 1:  1.6228846311569214, 0.43720000982284546\n",
      "Epoch 11, CIFAR-10 Batch 2:  1.618945598602295, 0.4474000036716461\n",
      "Epoch 11, CIFAR-10 Batch 3:  1.6237170696258545, 0.4422000050544739\n",
      "Epoch 11, CIFAR-10 Batch 4:  1.6049033403396606, 0.4447999894618988\n",
      "Epoch 11, CIFAR-10 Batch 5:  1.6097439527511597, 0.4442000091075897\n",
      "Epoch 12, CIFAR-10 Batch 1:  1.6049612760543823, 0.44839999079704285\n",
      "Epoch 12, CIFAR-10 Batch 2:  1.5893354415893555, 0.46160000562667847\n",
      "Epoch 12, CIFAR-10 Batch 3:  1.587902545928955, 0.45500001311302185\n",
      "Epoch 12, CIFAR-10 Batch 4:  1.5785527229309082, 0.4546000063419342\n",
      "Epoch 12, CIFAR-10 Batch 5:  1.5842869281768799, 0.45339998602867126\n",
      "Epoch 13, CIFAR-10 Batch 1:  1.5640742778778076, 0.44920000433921814\n",
      "Epoch 13, CIFAR-10 Batch 2:  1.5637542009353638, 0.46540001034736633\n",
      "Epoch 13, CIFAR-10 Batch 3:  1.557923436164856, 0.46399998664855957\n",
      "Epoch 13, CIFAR-10 Batch 4:  1.5529922246932983, 0.4684000015258789\n",
      "Epoch 13, CIFAR-10 Batch 5:  1.5546704530715942, 0.4618000090122223\n",
      "Epoch 14, CIFAR-10 Batch 1:  1.537624478340149, 0.46399998664855957\n",
      "Epoch 14, CIFAR-10 Batch 2:  1.5378469228744507, 0.47839999198913574\n",
      "Epoch 14, CIFAR-10 Batch 3:  1.5474330186843872, 0.4657999873161316\n",
      "Epoch 14, CIFAR-10 Batch 4:  1.5239804983139038, 0.4772000014781952\n",
      "Epoch 14, CIFAR-10 Batch 5:  1.5287634134292603, 0.4722000062465668\n",
      "Epoch 15, CIFAR-10 Batch 1:  1.5136367082595825, 0.47940000891685486\n",
      "Epoch 15, CIFAR-10 Batch 2:  1.5194464921951294, 0.4657999873161316\n",
      "Epoch 15, CIFAR-10 Batch 3:  1.526723861694336, 0.48539999127388\n",
      "Epoch 15, CIFAR-10 Batch 4:  1.5092076063156128, 0.4742000102996826\n",
      "Epoch 15, CIFAR-10 Batch 5:  1.5066028833389282, 0.4812000095844269\n",
      "Epoch 16, CIFAR-10 Batch 1:  1.4946526288986206, 0.490200012922287\n",
      "Epoch 16, CIFAR-10 Batch 2:  1.4998774528503418, 0.4745999872684479\n",
      "Epoch 16, CIFAR-10 Batch 3:  1.5104221105575562, 0.49300000071525574\n",
      "Epoch 16, CIFAR-10 Batch 4:  1.496686339378357, 0.4867999851703644\n",
      "Epoch 16, CIFAR-10 Batch 5:  1.503427505493164, 0.4790000021457672\n",
      "Epoch 17, CIFAR-10 Batch 1:  1.4698351621627808, 0.49140000343322754\n",
      "Epoch 17, CIFAR-10 Batch 2:  1.488641619682312, 0.4966000020503998\n",
      "Epoch 17, CIFAR-10 Batch 3:  1.4875695705413818, 0.4997999966144562\n",
      "Epoch 17, CIFAR-10 Batch 4:  1.47505784034729, 0.48980000615119934\n",
      "Epoch 17, CIFAR-10 Batch 5:  1.4779644012451172, 0.4927999973297119\n",
      "Epoch 18, CIFAR-10 Batch 1:  1.4549543857574463, 0.5034000277519226\n",
      "Epoch 18, CIFAR-10 Batch 2:  1.4719666242599487, 0.4957999885082245\n",
      "Epoch 18, CIFAR-10 Batch 3:  1.4790571928024292, 0.49799999594688416\n",
      "Epoch 18, CIFAR-10 Batch 4:  1.4655778408050537, 0.5016000270843506\n",
      "Epoch 18, CIFAR-10 Batch 5:  1.457060694694519, 0.5044000148773193\n",
      "Epoch 19, CIFAR-10 Batch 1:  1.4313206672668457, 0.5044000148773193\n",
      "Epoch 19, CIFAR-10 Batch 2:  1.4537873268127441, 0.5005999803543091\n",
      "Epoch 19, CIFAR-10 Batch 3:  1.4575971364974976, 0.5031999945640564\n",
      "Epoch 19, CIFAR-10 Batch 4:  1.4484989643096924, 0.4970000088214874\n",
      "Epoch 19, CIFAR-10 Batch 5:  1.4450420141220093, 0.5059999823570251\n",
      "Epoch 20, CIFAR-10 Batch 1:  1.4235409498214722, 0.5131999850273132\n",
      "Epoch 20, CIFAR-10 Batch 2:  1.442555546760559, 0.508400022983551\n",
      "Epoch 20, CIFAR-10 Batch 3:  1.4435830116271973, 0.5090000033378601\n",
      "Epoch 20, CIFAR-10 Batch 4:  1.4335691928863525, 0.5113999843597412\n",
      "Epoch 20, CIFAR-10 Batch 5:  1.426695466041565, 0.5108000040054321\n",
      "Epoch 21, CIFAR-10 Batch 1:  1.404328465461731, 0.5123999714851379\n",
      "Epoch 21, CIFAR-10 Batch 2:  1.4290660619735718, 0.503600001335144\n",
      "Epoch 21, CIFAR-10 Batch 3:  1.426728367805481, 0.5109999775886536\n",
      "Epoch 21, CIFAR-10 Batch 4:  1.4226959943771362, 0.5135999917984009\n",
      "Epoch 21, CIFAR-10 Batch 5:  1.421025276184082, 0.5109999775886536\n",
      "Epoch 22, CIFAR-10 Batch 1:  1.3918921947479248, 0.5175999999046326\n",
      "Epoch 22, CIFAR-10 Batch 2:  1.4057856798171997, 0.5181999802589417\n",
      "Epoch 22, CIFAR-10 Batch 3:  1.403090238571167, 0.5144000053405762\n",
      "Epoch 22, CIFAR-10 Batch 4:  1.4089614152908325, 0.5157999992370605\n",
      "Epoch 22, CIFAR-10 Batch 5:  1.4086928367614746, 0.515999972820282\n",
      "Epoch 23, CIFAR-10 Batch 1:  1.378272533416748, 0.5171999931335449\n",
      "Epoch 23, CIFAR-10 Batch 2:  1.405773401260376, 0.5185999870300293\n",
      "Epoch 23, CIFAR-10 Batch 3:  1.398227334022522, 0.5189999938011169\n",
      "Epoch 23, CIFAR-10 Batch 4:  1.4008527994155884, 0.5117999911308289\n",
      "Epoch 23, CIFAR-10 Batch 5:  1.3997716903686523, 0.5217999815940857\n",
      "Epoch 24, CIFAR-10 Batch 1:  1.367194652557373, 0.5184000134468079\n",
      "Epoch 24, CIFAR-10 Batch 2:  1.3867276906967163, 0.5216000080108643\n",
      "Epoch 24, CIFAR-10 Batch 3:  1.3891046047210693, 0.5275999903678894\n",
      "Epoch 24, CIFAR-10 Batch 4:  1.3771778345108032, 0.5234000086784363\n",
      "Epoch 24, CIFAR-10 Batch 5:  1.3791345357894897, 0.5281999707221985\n",
      "Epoch 25, CIFAR-10 Batch 1:  1.3561193943023682, 0.5288000106811523\n"
     ]
    },
    {
     "name": "stdout",
     "output_type": "stream",
     "text": [
      "Epoch 25, CIFAR-10 Batch 2:  1.374118447303772, 0.5267999768257141\n",
      "Epoch 25, CIFAR-10 Batch 3:  1.3736330270767212, 0.5329999923706055\n",
      "Epoch 25, CIFAR-10 Batch 4:  1.364583134651184, 0.5234000086784363\n",
      "Epoch 25, CIFAR-10 Batch 5:  1.366497278213501, 0.5321999788284302\n",
      "Epoch 26, CIFAR-10 Batch 1:  1.3470581769943237, 0.5302000045776367\n",
      "Epoch 26, CIFAR-10 Batch 2:  1.3644189834594727, 0.5216000080108643\n",
      "Epoch 26, CIFAR-10 Batch 3:  1.3797043561935425, 0.5332000255584717\n",
      "Epoch 26, CIFAR-10 Batch 4:  1.3550382852554321, 0.5314000248908997\n",
      "Epoch 26, CIFAR-10 Batch 5:  1.3618147373199463, 0.5357999801635742\n",
      "Epoch 27, CIFAR-10 Batch 1:  1.3511269092559814, 0.5278000235557556\n",
      "Epoch 27, CIFAR-10 Batch 2:  1.3569782972335815, 0.5314000248908997\n",
      "Epoch 27, CIFAR-10 Batch 3:  1.3569718599319458, 0.5347999930381775\n",
      "Epoch 27, CIFAR-10 Batch 4:  1.3598803281784058, 0.526199996471405\n",
      "Epoch 27, CIFAR-10 Batch 5:  1.3537606000900269, 0.5393999814987183\n",
      "Epoch 28, CIFAR-10 Batch 1:  1.3135546445846558, 0.5365999937057495\n",
      "Epoch 28, CIFAR-10 Batch 2:  1.3528447151184082, 0.5374000072479248\n",
      "Epoch 28, CIFAR-10 Batch 3:  1.3447648286819458, 0.5375999808311462\n",
      "Epoch 28, CIFAR-10 Batch 4:  1.3422127962112427, 0.5329999923706055\n",
      "Epoch 28, CIFAR-10 Batch 5:  1.3423821926116943, 0.5437999963760376\n",
      "Epoch 29, CIFAR-10 Batch 1:  1.3102210760116577, 0.5333999991416931\n",
      "Epoch 29, CIFAR-10 Batch 2:  1.5362746715545654, 0.4327999949455261\n",
      "Epoch 29, CIFAR-10 Batch 3:  1.4371439218521118, 0.4957999885082245\n",
      "Epoch 29, CIFAR-10 Batch 4:  1.4113337993621826, 0.5077999830245972\n",
      "Epoch 29, CIFAR-10 Batch 5:  1.4187474250793457, 0.5216000080108643\n",
      "Epoch 30, CIFAR-10 Batch 1:  1.3802475929260254, 0.5090000033378601\n",
      "Epoch 30, CIFAR-10 Batch 2:  1.416962742805481, 0.5157999992370605\n",
      "Epoch 30, CIFAR-10 Batch 3:  1.3862234354019165, 0.5206000208854675\n",
      "Epoch 30, CIFAR-10 Batch 4:  1.3659381866455078, 0.5189999938011169\n",
      "Epoch 30, CIFAR-10 Batch 5:  1.3881518840789795, 0.520799994468689\n",
      "Epoch 31, CIFAR-10 Batch 1:  1.329573392868042, 0.5194000005722046\n",
      "Epoch 31, CIFAR-10 Batch 2:  1.3697072267532349, 0.5184000134468079\n",
      "Epoch 31, CIFAR-10 Batch 3:  1.3621610403060913, 0.531000018119812\n",
      "Epoch 31, CIFAR-10 Batch 4:  1.3459891080856323, 0.5264000296592712\n",
      "Epoch 31, CIFAR-10 Batch 5:  1.351400375366211, 0.5389999747276306\n",
      "Epoch 32, CIFAR-10 Batch 1:  1.3143393993377686, 0.5347999930381775\n",
      "Epoch 32, CIFAR-10 Batch 2:  1.3420867919921875, 0.5397999882698059\n",
      "Epoch 32, CIFAR-10 Batch 3:  1.3487828969955444, 0.5339999794960022\n",
      "Epoch 32, CIFAR-10 Batch 4:  1.3340461254119873, 0.5289999842643738\n",
      "Epoch 32, CIFAR-10 Batch 5:  1.3450078964233398, 0.5407999753952026\n",
      "Epoch 33, CIFAR-10 Batch 1:  1.3025895357131958, 0.5368000268936157\n",
      "Epoch 33, CIFAR-10 Batch 2:  1.3448923826217651, 0.5368000268936157\n",
      "Epoch 33, CIFAR-10 Batch 3:  1.353124976158142, 0.5350000262260437\n",
      "Epoch 33, CIFAR-10 Batch 4:  1.333935260772705, 0.5339999794960022\n",
      "Epoch 33, CIFAR-10 Batch 5:  1.3289134502410889, 0.5361999869346619\n",
      "Epoch 34, CIFAR-10 Batch 1:  1.3068673610687256, 0.5389999747276306\n",
      "Epoch 34, CIFAR-10 Batch 2:  1.323616862297058, 0.5350000262260437\n",
      "Epoch 34, CIFAR-10 Batch 3:  1.3267461061477661, 0.5364000201225281\n",
      "Epoch 34, CIFAR-10 Batch 4:  1.321307897567749, 0.5353999733924866\n",
      "Epoch 34, CIFAR-10 Batch 5:  1.3210819959640503, 0.5440000295639038\n",
      "Epoch 35, CIFAR-10 Batch 1:  1.297400951385498, 0.5379999876022339\n",
      "Epoch 35, CIFAR-10 Batch 2:  1.3176782131195068, 0.5378000140190125\n",
      "Epoch 35, CIFAR-10 Batch 3:  1.3150427341461182, 0.5442000031471252\n",
      "Epoch 35, CIFAR-10 Batch 4:  1.3060314655303955, 0.5410000085830688\n",
      "Epoch 35, CIFAR-10 Batch 5:  1.304911494255066, 0.5454000234603882\n",
      "Epoch 36, CIFAR-10 Batch 1:  1.2874127626419067, 0.54339998960495\n",
      "Epoch 36, CIFAR-10 Batch 2:  1.3145499229431152, 0.5400000214576721\n",
      "Epoch 36, CIFAR-10 Batch 3:  1.3119070529937744, 0.5357999801635742\n",
      "Epoch 36, CIFAR-10 Batch 4:  1.3040177822113037, 0.5460000038146973\n",
      "Epoch 36, CIFAR-10 Batch 5:  1.302371621131897, 0.5401999950408936\n",
      "Epoch 37, CIFAR-10 Batch 1:  1.2724488973617554, 0.5482000112533569\n",
      "Epoch 37, CIFAR-10 Batch 2:  1.3041419982910156, 0.5386000275611877\n",
      "Epoch 37, CIFAR-10 Batch 3:  1.311105728149414, 0.5404000282287598\n",
      "Epoch 37, CIFAR-10 Batch 4:  1.290562629699707, 0.5501999855041504\n",
      "Epoch 37, CIFAR-10 Batch 5:  1.2995765209197998, 0.5455999970436096\n",
      "Epoch 38, CIFAR-10 Batch 1:  1.2655420303344727, 0.5465999841690063\n",
      "Epoch 38, CIFAR-10 Batch 2:  1.305954933166504, 0.5447999835014343\n",
      "Epoch 38, CIFAR-10 Batch 3:  1.3102763891220093, 0.5407999753952026\n",
      "Epoch 38, CIFAR-10 Batch 4:  1.2928869724273682, 0.546999990940094\n",
      "Epoch 38, CIFAR-10 Batch 5:  1.2905689477920532, 0.5461999773979187\n",
      "Epoch 39, CIFAR-10 Batch 1:  1.2574774026870728, 0.550000011920929\n",
      "Epoch 39, CIFAR-10 Batch 2:  1.2993927001953125, 0.5440000295639038\n",
      "Epoch 39, CIFAR-10 Batch 3:  1.2803399562835693, 0.5473999977111816\n",
      "Epoch 39, CIFAR-10 Batch 4:  1.2793024778366089, 0.551800012588501\n",
      "Epoch 39, CIFAR-10 Batch 5:  1.2833706140518188, 0.5443999767303467\n",
      "Epoch 40, CIFAR-10 Batch 1:  1.253365159034729, 0.5443999767303467\n",
      "Epoch 40, CIFAR-10 Batch 2:  1.290083885192871, 0.545199990272522\n",
      "Epoch 40, CIFAR-10 Batch 3:  1.2746226787567139, 0.5504000186920166\n",
      "Epoch 40, CIFAR-10 Batch 4:  1.2860289812088013, 0.54339998960495\n",
      "Epoch 40, CIFAR-10 Batch 5:  1.2850911617279053, 0.545199990272522\n",
      "Epoch 41, CIFAR-10 Batch 1:  1.2597098350524902, 0.5454000234603882\n",
      "Epoch 41, CIFAR-10 Batch 2:  1.297136902809143, 0.5446000099182129\n",
      "Epoch 41, CIFAR-10 Batch 3:  1.2720988988876343, 0.5454000234603882\n",
      "Epoch 41, CIFAR-10 Batch 4:  1.2712702751159668, 0.5475999712944031\n",
      "Epoch 41, CIFAR-10 Batch 5:  1.2641314268112183, 0.5523999929428101\n",
      "Epoch 42, CIFAR-10 Batch 1:  1.2306416034698486, 0.5569999814033508\n",
      "Epoch 42, CIFAR-10 Batch 2:  1.2650328874588013, 0.5508000254631042\n",
      "Epoch 42, CIFAR-10 Batch 3:  1.260474681854248, 0.5555999875068665\n",
      "Epoch 42, CIFAR-10 Batch 4:  1.2570898532867432, 0.5568000078201294\n",
      "Epoch 42, CIFAR-10 Batch 5:  1.2510170936584473, 0.548799991607666\n",
      "Epoch 43, CIFAR-10 Batch 1:  1.2330604791641235, 0.5537999868392944\n",
      "Epoch 43, CIFAR-10 Batch 2:  1.2557756900787354, 0.5564000010490417\n",
      "Epoch 43, CIFAR-10 Batch 3:  1.25981867313385, 0.5576000213623047\n",
      "Epoch 43, CIFAR-10 Batch 4:  1.2508715391159058, 0.5564000010490417\n",
      "Epoch 43, CIFAR-10 Batch 5:  1.2491501569747925, 0.5559999942779541\n",
      "Epoch 44, CIFAR-10 Batch 1:  1.2345237731933594, 0.5532000064849854\n",
      "Epoch 44, CIFAR-10 Batch 2:  1.246375560760498, 0.5591999888420105\n",
      "Epoch 44, CIFAR-10 Batch 3:  1.2510743141174316, 0.5465999841690063\n",
      "Epoch 44, CIFAR-10 Batch 4:  1.2526328563690186, 0.557200014591217\n",
      "Epoch 44, CIFAR-10 Batch 5:  1.2432078123092651, 0.548799991607666\n",
      "Epoch 45, CIFAR-10 Batch 1:  1.220661997795105, 0.5591999888420105\n",
      "Epoch 45, CIFAR-10 Batch 2:  1.2538700103759766, 0.5559999942779541\n",
      "Epoch 45, CIFAR-10 Batch 3:  1.2419146299362183, 0.5551999807357788\n",
      "Epoch 45, CIFAR-10 Batch 4:  1.2579574584960938, 0.5555999875068665\n",
      "Epoch 45, CIFAR-10 Batch 5:  1.2388821840286255, 0.5522000193595886\n",
      "Epoch 46, CIFAR-10 Batch 1:  1.212735891342163, 0.5540000200271606\n",
      "Epoch 46, CIFAR-10 Batch 2:  1.2446106672286987, 0.5598000288009644\n",
      "Epoch 46, CIFAR-10 Batch 3:  1.2291886806488037, 0.5551999807357788\n",
      "Epoch 46, CIFAR-10 Batch 4:  1.2529098987579346, 0.5600000023841858\n",
      "Epoch 46, CIFAR-10 Batch 5:  1.2330564260482788, 0.5504000186920166\n",
      "Epoch 47, CIFAR-10 Batch 1:  1.2153955698013306, 0.5568000078201294\n",
      "Epoch 47, CIFAR-10 Batch 2:  1.2277767658233643, 0.5565999746322632\n",
      "Epoch 47, CIFAR-10 Batch 3:  1.21834135055542, 0.5568000078201294\n",
      "Epoch 47, CIFAR-10 Batch 4:  1.2310123443603516, 0.557200014591217\n",
      "Epoch 47, CIFAR-10 Batch 5:  1.227292537689209, 0.557200014591217\n",
      "Epoch 48, CIFAR-10 Batch 1:  1.1976443529129028, 0.5641999840736389\n",
      "Epoch 48, CIFAR-10 Batch 2:  1.2181259393692017, 0.5637999773025513\n",
      "Epoch 48, CIFAR-10 Batch 3:  1.2214293479919434, 0.5582000017166138\n",
      "Epoch 48, CIFAR-10 Batch 4:  1.2290868759155273, 0.5622000098228455\n",
      "Epoch 48, CIFAR-10 Batch 5:  1.2143784761428833, 0.5564000010490417\n",
      "Epoch 49, CIFAR-10 Batch 1:  1.1959079504013062, 0.5680000185966492\n",
      "Epoch 49, CIFAR-10 Batch 2:  1.214590072631836, 0.5622000098228455\n"
     ]
    },
    {
     "name": "stdout",
     "output_type": "stream",
     "text": [
      "Epoch 49, CIFAR-10 Batch 3:  1.2038123607635498, 0.5594000220298767\n",
      "Epoch 49, CIFAR-10 Batch 4:  1.2322230339050293, 0.5672000050544739\n",
      "Epoch 49, CIFAR-10 Batch 5:  1.2054765224456787, 0.5627999901771545\n",
      "Epoch 50, CIFAR-10 Batch 1:  1.2000887393951416, 0.5601999759674072\n",
      "Epoch 50, CIFAR-10 Batch 2:  1.2106374502182007, 0.5644000172615051\n",
      "Epoch 50, CIFAR-10 Batch 3:  1.2122180461883545, 0.5654000043869019\n",
      "Epoch 50, CIFAR-10 Batch 4:  1.2092103958129883, 0.5618000030517578\n",
      "Epoch 50, CIFAR-10 Batch 5:  1.2049967050552368, 0.5658000111579895\n"
     ]
    }
   ],
   "source": [
    "\"\"\"\n",
    "DON'T MODIFY ANYTHING IN THIS CELL\n",
    "\"\"\"\n",
    "save_model_path = './image_classification'\n",
    "\n",
    "print('Training...')\n",
    "with tf.Session() as sess:\n",
    "    # Initializing the variables\n",
    "    sess.run(tf.global_variables_initializer())\n",
    "    \n",
    "    # Training cycle\n",
    "    for epoch in range(epochs):\n",
    "        # Loop over all batches\n",
    "        n_batches = 5\n",
    "        for batch_i in range(1, n_batches + 1):\n",
    "            for batch_features, batch_labels in helper.load_preprocess_training_batch(batch_i, batch_size):\n",
    "                train_neural_network(sess, optimizer, keep_probability, batch_features, batch_labels)\n",
    "            print('Epoch {:>2}, CIFAR-10 Batch {}:  '.format(epoch + 1, batch_i), end='')\n",
    "            print_stats(sess, batch_features, batch_labels, cost, accuracy)\n",
    "            \n",
    "    # Save Model\n",
    "    saver = tf.train.Saver()\n",
    "    save_path = saver.save(sess, save_model_path)"
   ]
  },
  {
   "cell_type": "markdown",
   "metadata": {},
   "source": [
    "# Checkpoint\n",
    "The model has been saved to disk.\n",
    "## Test Model\n",
    "Test your model against the test dataset.  This will be your final accuracy. You should have an accuracy greater than 50%. If you don't, keep tweaking the model architecture and parameters."
   ]
  },
  {
   "cell_type": "code",
   "execution_count": 28,
   "metadata": {},
   "outputs": [
    {
     "name": "stdout",
     "output_type": "stream",
     "text": [
      "INFO:tensorflow:Restoring parameters from ./image_classification\n",
      "Testing Accuracy: 0.5541892498731613\n",
      "\n"
     ]
    },
    {
     "data": {
      "image/png": "[encoded data removed]",
      "text/plain": [
       "<matplotlib.figure.Figure at 0x7f581b031e48>"
      ]
     },
     "metadata": {
      "image/png": {
       "height": 319,
       "width": 355
      }
     },
     "output_type": "display_data"
    }
   ],
   "source": [
    "\"\"\"\n",
    "DON'T MODIFY ANYTHING IN THIS CELL\n",
    "\"\"\"\n",
    "%matplotlib inline\n",
    "%config InlineBackend.figure_format = 'retina'\n",
    "\n",
    "import tensorflow as tf\n",
    "import pickle\n",
    "import helper\n",
    "import random\n",
    "\n",
    "# Set batch size if not already set\n",
    "try:\n",
    "    if batch_size:\n",
    "        pass\n",
    "except NameError:\n",
    "    batch_size = 64\n",
    "\n",
    "save_model_path = './image_classification'\n",
    "n_samples = 4\n",
    "top_n_predictions = 3\n",
    "\n",
    "def test_model():\n",
    "    \"\"\"\n",
    "    Test the saved model against the test dataset\n",
    "    \"\"\"\n",
    "\n",
    "    test_features, test_labels = pickle.load(open('preprocess_training.p', mode='rb'))\n",
    "    loaded_graph = tf.Graph()\n",
    "\n",
    "    with tf.Session(graph=loaded_graph) as sess:\n",
    "        # Load model\n",
    "        loader = tf.train.import_meta_graph(save_model_path + '.meta')\n",
    "        loader.restore(sess, save_model_path)\n",
    "\n",
    "        # Get Tensors from loaded model\n",
    "        loaded_x = loaded_graph.get_tensor_by_name('x:0')\n",
    "        loaded_y = loaded_graph.get_tensor_by_name('y:0')\n",
    "        loaded_keep_prob = loaded_graph.get_tensor_by_name('keep_prob:0')\n",
    "        loaded_logits = loaded_graph.get_tensor_by_name('logits:0')\n",
    "        loaded_acc = loaded_graph.get_tensor_by_name('accuracy:0')\n",
    "        \n",
    "        # Get accuracy in batches for memory limitations\n",
    "        test_batch_acc_total = 0\n",
    "        test_batch_count = 0\n",
    "        \n",
    "        for train_feature_batch, train_label_batch in helper.batch_features_labels(test_features, test_labels, batch_size):\n",
    "            test_batch_acc_total += sess.run(\n",
    "                loaded_acc,\n",
    "                feed_dict={loaded_x: train_feature_batch, loaded_y: train_label_batch, loaded_keep_prob: 1.0})\n",
    "            test_batch_count += 1\n",
    "\n",
    "        print('Testing Accuracy: {}\\n'.format(test_batch_acc_total/test_batch_count))\n",
    "\n",
    "        # Print Random Samples\n",
    "        random_test_features, random_test_labels = tuple(zip(*random.sample(list(zip(test_features, test_labels)), n_samples)))\n",
    "        random_test_predictions = sess.run(\n",
    "            tf.nn.top_k(tf.nn.softmax(loaded_logits), top_n_predictions),\n",
    "            feed_dict={loaded_x: random_test_features, loaded_y: random_test_labels, loaded_keep_prob: 1.0})\n",
    "        helper.display_image_predictions(random_test_features, random_test_labels, random_test_predictions)\n",
    "\n",
    "\n",
    "test_model()"
   ]
  },
  {
   "cell_type": "markdown",
   "metadata": {},
   "source": [
    "## Why 50-80% Accuracy?\n",
    "You might be wondering why you can't get an accuracy any higher. First things first, 50% isn't bad for a simple CNN.  Pure guessing would get you 10% accuracy. That's because there are many more techniques that can be applied to your model and we recemmond that once you are done with this project, you explore!\n",
    "\n",
    "## Submitting This Project\n",
    "When submitting this project, make sure to run all the cells before saving the notebook.  Save the notebook file as \"image_classification.ipynb\" and save it as a HTML file under \"File\" -> \"Download as\".  Include the \"helper.py\" and \"problem_unittests.py\" files in your submission."
   ]
  }
 ],
 "metadata": {
  "kernelspec": {
   "display_name": "Python 3",
   "language": "python",
   "name": "python3"
  },
  "language_info": {
   "codemirror_mode": {
    "name": "ipython",
    "version": 3
   },
   "file_extension": ".py",
   "mimetype": "text/x-python",
   "name": "python",
   "nbconvert_exporter": "python",
   "pygments_lexer": "ipython3",
   "version": "3.5.2+"
  }
 },
 "nbformat": 4,
 "nbformat_minor": 1
}
